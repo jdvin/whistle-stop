{
 "cells": [
  {
   "cell_type": "code",
   "execution_count": 5,
   "metadata": {},
   "outputs": [
    {
     "name": "stderr",
     "output_type": "stream",
     "text": [
      "Found cached dataset wikitext (/Users/jdvin/.cache/huggingface/datasets/wikitext/wikitext-2-v1/1.0.0/a241db52902eaf2c6aa732210bead40c090019a499ceb13bcbfa3f8ab646a126)\n"
     ]
    },
    {
     "data": {
      "application/vnd.jupyter.widget-view+json": {
       "model_id": "6fd0ba6ea6c04c7f983cfedfe9a44a42",
       "version_major": 2,
       "version_minor": 0
      },
      "text/plain": [
       "  0%|          | 0/3 [00:00<?, ?it/s]"
      ]
     },
     "metadata": {},
     "output_type": "display_data"
    }
   ],
   "source": [
    "import importlib\n",
    "import os\n",
    "\n",
    "from datasets import load_dataset\n",
    "import tiktoken\n",
    "from transformers import AutoModelForCausalLM, AutoTokenizer\n",
    "\n",
    "from nanoGPT import model\n",
    "import utils as ut\n",
    "import pipelines as p\n",
    "\n",
    "wikitext = load_dataset(\"wikitext\", \"wikitext-2-v1\")\n",
    "\n",
    "hf_gpt_model = AutoModelForCausalLM.from_pretrained(\"gpt2\")\n",
    "hf_gpt_tokenizer = AutoTokenizer.from_pretrained(\"gpt2\")\n",
    "\n",
    "# nanoGPT_model = model.GPT.from_pretrained(\"gpt2\", dict(dropout=0))\n",
    "# nanoGPT_model.eval()\n",
    "# tiktoken_tokenizer = tiktoken.get_encoding(\"gpt2\")\n"
   ]
  },
  {
   "cell_type": "code",
   "execution_count": null,
   "metadata": {},
   "outputs": [],
   "source": [
    "\"\"\"Create various optimised and quantised models for testing.\n",
    "\n",
    "Sources:\n",
    "        - https://onnxruntime.ai/docs/performance/quantization.html\n",
    "        - https://github.com/microsoft/onnxruntime-inference-examples/blob/main/quantization/notebooks/bert/Bert-GLUE_OnnxRuntime_quantization.ipynb\n",
    "\"\"\"\n",
    "\n",
    "\n",
    "os.makedirs(\"models\", exist_ok=True)\n",
    "models = os.listdir(\"./models/\")\n",
    "\n",
    "if \"models\" in os.listdir() and \"gpt2_past.onnx\" in models:\n",
    "\n",
    "    if \"gpt2_opt.onnx\" not in models:\n",
    "        from onnxruntime_tools import optimizer # Transformer specific optimisation tools.\n",
    "        opt_model = optimizer.optimize_model(\n",
    "            \"models/gpt2_past.onnx\",\n",
    "            \"gpt2\",\n",
    "            num_heads=hf_gpt_model.config.n_head,\n",
    "            hidden_size=hf_gpt_model.config.n_embd,\n",
    "        )\n",
    "        opt_model.save_model_to_file(\"models/gpt2_opt.onnx\")\n",
    "\n",
    "\n",
    "    from onnxruntime.quantization import quantize_dynamic\n",
    "    if \"gpt2_quant.onnx\" not in models:\n",
    "        quant_model = quantize_dynamic(\"models/gpt2_past.onnx\", \"models/gpt2_quant.onnx\")\n",
    "    if \"gpt_opt_quant.onnx\" not in models:\n",
    "        opt_quant_model = quantize_dynamic(\"models/gpt2_opt.onnx\", \"models/gpt2_opt_quant.onnx\")\n",
    "\n",
    "else:\n",
    "    raise Exception(\"You have not compiled the base GPT2 onnx model. Refer to `README.md`.\")\n"
   ]
  },
  {
   "cell_type": "code",
   "execution_count": 60,
   "metadata": {},
   "outputs": [
    {
     "name": "stdout",
     "output_type": "stream",
     "text": [
      "=== Beginning Model Testing ===\n",
      "=> Testing model HF Base (1/5).\n",
      "==> Running speed test...\n"
     ]
    },
    {
     "data": {
      "application/vnd.jupyter.widget-view+json": {
       "model_id": "cb29e79eb3a648d3bad9703f94b582b5",
       "version_major": 2,
       "version_minor": 0
      },
      "text/plain": [
       "  0%|          | 0/20 [00:00<?, ?it/s]"
      ]
     },
     "metadata": {},
     "output_type": "display_data"
    },
    {
     "name": "stdout",
     "output_type": "stream",
     "text": [
      "==> Complete!\n",
      "==> Running perplexity test...\n"
     ]
    },
    {
     "data": {
      "application/vnd.jupyter.widget-view+json": {
       "model_id": "bcad3d282bea4ec1925985a4884d0aa7",
       "version_major": 2,
       "version_minor": 0
      },
      "text/plain": [
       "  0%|          | 0/10 [00:00<?, ?it/s]"
      ]
     },
     "metadata": {},
     "output_type": "display_data"
    },
    {
     "name": "stdout",
     "output_type": "stream",
     "text": [
      "==> Complete!\n",
      "=> Testing model Onnx Base (2/5).\n",
      "==> Running speed test...\n"
     ]
    },
    {
     "data": {
      "application/vnd.jupyter.widget-view+json": {
       "model_id": "bfc747c1b5654730817a4f9509a5815f",
       "version_major": 2,
       "version_minor": 0
      },
      "text/plain": [
       "  0%|          | 0/20 [00:00<?, ?it/s]"
      ]
     },
     "metadata": {},
     "output_type": "display_data"
    },
    {
     "name": "stdout",
     "output_type": "stream",
     "text": [
      "==> Complete!\n",
      "==> Running perplexity test...\n"
     ]
    },
    {
     "data": {
      "application/vnd.jupyter.widget-view+json": {
       "model_id": "fcafd12690eb464ea9c1977def617fa3",
       "version_major": 2,
       "version_minor": 0
      },
      "text/plain": [
       "  0%|          | 0/10 [00:00<?, ?it/s]"
      ]
     },
     "metadata": {},
     "output_type": "display_data"
    },
    {
     "name": "stdout",
     "output_type": "stream",
     "text": [
      "==> Complete!\n",
      "=> Testing model Onnx Opt (3/5).\n",
      "==> Running speed test...\n"
     ]
    },
    {
     "data": {
      "application/vnd.jupyter.widget-view+json": {
       "model_id": "8607a1e7d40e499a9f9b26f17ad963a3",
       "version_major": 2,
       "version_minor": 0
      },
      "text/plain": [
       "  0%|          | 0/20 [00:00<?, ?it/s]"
      ]
     },
     "metadata": {},
     "output_type": "display_data"
    },
    {
     "name": "stdout",
     "output_type": "stream",
     "text": [
      "==> Complete!\n",
      "==> Running perplexity test...\n"
     ]
    },
    {
     "data": {
      "application/vnd.jupyter.widget-view+json": {
       "model_id": "136dbac2ca6e4887bb105dbc6f442284",
       "version_major": 2,
       "version_minor": 0
      },
      "text/plain": [
       "  0%|          | 0/10 [00:00<?, ?it/s]"
      ]
     },
     "metadata": {},
     "output_type": "display_data"
    },
    {
     "name": "stdout",
     "output_type": "stream",
     "text": [
      "==> Complete!\n",
      "=> Testing model Onnx Quan (4/5).\n",
      "==> Running speed test...\n"
     ]
    },
    {
     "data": {
      "application/vnd.jupyter.widget-view+json": {
       "model_id": "22b8f04472c54ac897656126fdcbccd6",
       "version_major": 2,
       "version_minor": 0
      },
      "text/plain": [
       "  0%|          | 0/20 [00:00<?, ?it/s]"
      ]
     },
     "metadata": {},
     "output_type": "display_data"
    },
    {
     "name": "stdout",
     "output_type": "stream",
     "text": [
      "==> Complete!\n",
      "==> Running perplexity test...\n"
     ]
    },
    {
     "data": {
      "application/vnd.jupyter.widget-view+json": {
       "model_id": "2d2dd065d07440f485803828dd0ee464",
       "version_major": 2,
       "version_minor": 0
      },
      "text/plain": [
       "  0%|          | 0/10 [00:00<?, ?it/s]"
      ]
     },
     "metadata": {},
     "output_type": "display_data"
    },
    {
     "name": "stdout",
     "output_type": "stream",
     "text": [
      "==> Complete!\n",
      "=> Testing model Onnx Opt Quan (5/5).\n",
      "==> Running speed test...\n"
     ]
    },
    {
     "data": {
      "application/vnd.jupyter.widget-view+json": {
       "model_id": "a9438ffd3f974ead94a537cf4a4bef99",
       "version_major": 2,
       "version_minor": 0
      },
      "text/plain": [
       "  0%|          | 0/20 [00:00<?, ?it/s]"
      ]
     },
     "metadata": {},
     "output_type": "display_data"
    },
    {
     "name": "stdout",
     "output_type": "stream",
     "text": [
      "==> Complete!\n",
      "==> Running perplexity test...\n"
     ]
    },
    {
     "data": {
      "application/vnd.jupyter.widget-view+json": {
       "model_id": "98901a9d2ebb42739c55394534b2eaed",
       "version_major": 2,
       "version_minor": 0
      },
      "text/plain": [
       "  0%|          | 0/10 [00:00<?, ?it/s]"
      ]
     },
     "metadata": {},
     "output_type": "display_data"
    },
    {
     "name": "stdout",
     "output_type": "stream",
     "text": [
      "==> Complete!\n",
      "== Model Testing Complete! - Plotting results... ==\n"
     ]
    },
    {
     "data": {
      "image/png": "[encoded data removed]",
      "text/plain": [
       "<Figure size 640x480 with 1 Axes>"
      ]
     },
     "metadata": {},
     "output_type": "display_data"
    },
    {
     "data": {
      "image/png": "[encoded data removed]",
      "text/plain": [
       "<Figure size 640x480 with 1 Axes>"
      ]
     },
     "metadata": {},
     "output_type": "display_data"
    }
   ],
   "source": [
    "importlib.reload(ut)\n",
    "importlib.reload(p)\n",
    "\n",
    "base_hf_tester = ut.ModelTester(\n",
    "    model_name=\"HF Base\",\n",
    "    model_func=p.huggingface_pipe(tokenizer=hf_gpt_tokenizer, model=hf_gpt_model),\n",
    ")\n",
    "\n",
    "# nanoGPT_tester = p.ModelTester(\n",
    "#     model_name=\"nanoGPT\",\n",
    "#     model_func=p.nanoGPT_pipe(tiktoken_tokenizer, nanoGPT_model),\n",
    "# )\n",
    "\n",
    "\n",
    "onnx_base_tester = ut.ModelTester(\n",
    "    model_name=\"Onnx Base\",\n",
    "    model_func=p.onnx_custom_pipe(\n",
    "        hf_gpt_tokenizer,\n",
    "        model_path=\"models/gpt2_base.onnx\",\n",
    "        n_attention_heads=hf_gpt_model.config.n_head,\n",
    "        hidden_size=hf_gpt_model.config.n_embd,\n",
    "        n_layers=hf_gpt_model.config.n_layer,\n",
    "    ),\n",
    ")\n",
    "onnx_quant_tester = ut.ModelTester(\n",
    "    model_name=\"Onnx Quan\",\n",
    "    model_func=p.onnx_custom_pipe(\n",
    "        hf_gpt_tokenizer,\n",
    "        model_path=\"models/gpt2_quant.onnx\",\n",
    "        n_attention_heads=hf_gpt_model.config.n_head,\n",
    "        hidden_size=hf_gpt_model.config.n_embd,\n",
    "        n_layers=hf_gpt_model.config.n_layer,\n",
    "    ),\n",
    ")\n",
    "\n",
    "onnx_opt_tester = ut.ModelTester(\n",
    "    model_name=\"Onnx Opt\",\n",
    "    model_func=p.onnx_custom_pipe(\n",
    "        hf_gpt_tokenizer,\n",
    "        model_path=\"models/gpt2_opt.onnx\",\n",
    "        n_attention_heads=hf_gpt_model.config.n_head,\n",
    "        hidden_size=hf_gpt_model.config.n_embd,\n",
    "        n_layers=hf_gpt_model.config.n_layer,\n",
    "    ),\n",
    ")\n",
    "onnx_opt_quant_tester = ut.ModelTester(\n",
    "    model_name=\"Onnx Opt Quan\",\n",
    "    model_func=p.onnx_custom_pipe(\n",
    "        hf_gpt_tokenizer,\n",
    "        model_path=\"models/gpt2_opt_quant.onnx\",\n",
    "        n_attention_heads=hf_gpt_model.config.n_head,\n",
    "        hidden_size=hf_gpt_model.config.n_embd,\n",
    "        n_layers=hf_gpt_model.config.n_layer,\n",
    "    ),\n",
    ")\n",
    "\n",
    "testers = [\n",
    "    base_hf_tester,\n",
    "    onnx_base_tester,\n",
    "    onnx_opt_tester,\n",
    "    onnx_quant_tester,\n",
    "    onnx_opt_quant_tester,\n",
    "]\n",
    "\n",
    "tests_per_model = 20\n",
    "prompt_length = 50\n",
    "test_sequences = ut.sample_dataset(\n",
    "    dataset=wikitext, n_articles=10, min_length_chars=500, max_length_chars=1000\n",
    ")\n",
    "standard_sequences = [\n",
    "    \"The Wright brothers invented and flew the first airplane in 1903, recognized as 'the first sustained and controlled heavier-than-air powered flight'. They built on the works of George Cayley dating from 1799, when he set forth the concept of the modern airplane (and later built and flew models and successful passenger-carrying gliders). Between 1867 and 1896, the German pioneer of human aviation Otto Lilienthal also studied heavier-than-air flight. Following its limited use in World War I, aircraft technology continued to develop. Airplanes had a presence in all the major battles of World War II. The first jet aircraft was the German Heinkel He 178 in 1939. The first jet airliner, the de Havilland Comet, was introduced in 1952. The Boeing 707, the first widely successful commercial jet, was in commercial service for more than 50 years, from 1958 to at least 2013.\",\n",
    "    \"Telecommunications is about transferring information from one location to another. This includes many forms of information: telephone conversations, television signals, computer files, and other types of data. To transfer the information, you need a channel between the two locations. This may be a wire pair, radio signal, optical fiber, etc. Telecommunications companies receive payment for transferring their customer's information, while they must pay to establish and maintain the channel. The financial bottom line is simple: the more information they can pass through a single channel, the more money they make. DSP has revolutionized the telecommunications industry in many areas: signaling tone generation and detection, frequency band shifting, filtering to remove power line hum, etc. Three specific examples from the telephone network will be discussed here: multiplexing, compression, and echo control.\",\n",
    "]\n",
    "max_generation_length = 100\n",
    "\n",
    "\n",
    "# random.shuffle(testers)\n",
    "print(\"=== Beginning Model Testing ===\")\n",
    "for i, model_tester in enumerate(testers):\n",
    "    print(f\"=> Testing model {model_tester.model_name} ({i+1}/{len(testers)}).\")\n",
    "    print(f\"==> Running speed test...\")\n",
    "    # Conduct multiple tests to account for variance resulting from machine-level sources.\n",
    "    model_tester.run_speed_test(\n",
    "        n_tests=tests_per_model,\n",
    "        prompt_length=prompt_length,\n",
    "        max_generation_length=max_generation_length,\n",
    "        tokenizer=hf_gpt_tokenizer,\n",
    "    )\n",
    "    print(f\"==> Complete!\")\n",
    "    print(f\"==> Running perplexity test...\")\n",
    "    model_tester.run_perplexity_test(test_sequences, hf_gpt_tokenizer)\n",
    "    print(f\"==> Complete!\")\n",
    "\n",
    "print(\"== Model Testing Complete! - Plotting results... ==\")\n",
    "ut.plot_test_results(model_testers=testers, result_type=\"times\")\n",
    "ut.plot_test_results(model_testers=testers, result_type=\"perplexities\")\n"
   ]
  },
  {
   "attachments": {},
   "cell_type": "markdown",
   "metadata": {},
   "source": [
    "testers[0].outputs\n"
   ]
  },
  {
   "cell_type": "code",
   "execution_count": 62,
   "metadata": {},
   "outputs": [
    {
     "name": "stdout",
     "output_type": "stream",
     "text": [
      "Performing test 1/30...\n"
     ]
    },
    {
     "data": {
      "application/vnd.jupyter.widget-view+json": {
       "model_id": "b8d7dc4d7ad14c5ab31a73d4b5e97506",
       "version_major": 2,
       "version_minor": 0
      },
      "text/plain": [
       "  0%|          | 0/5 [00:00<?, ?it/s]"
      ]
     },
     "metadata": {},
     "output_type": "display_data"
    },
    {
     "name": "stdout",
     "output_type": "stream",
     "text": [
      "Performing test 1/30...\n"
     ]
    },
    {
     "data": {
      "application/vnd.jupyter.widget-view+json": {
       "model_id": "ce120c6fec744c15aefa03392c996289",
       "version_major": 2,
       "version_minor": 0
      },
      "text/plain": [
       "  0%|          | 0/5 [00:00<?, ?it/s]"
      ]
     },
     "metadata": {},
     "output_type": "display_data"
    },
    {
     "name": "stdout",
     "output_type": "stream",
     "text": [
      "Performing test 1/30...\n"
     ]
    },
    {
     "data": {
      "application/vnd.jupyter.widget-view+json": {
       "model_id": "e7d1d7f3e7154309aa86aa58f72820b6",
       "version_major": 2,
       "version_minor": 0
      },
      "text/plain": [
       "  0%|          | 0/5 [00:00<?, ?it/s]"
      ]
     },
     "metadata": {},
     "output_type": "display_data"
    },
    {
     "name": "stdout",
     "output_type": "stream",
     "text": [
      "Performing test 1/30...\n"
     ]
    },
    {
     "data": {
      "application/vnd.jupyter.widget-view+json": {
       "model_id": "1ded077c931643fe92feb4f08d6062cc",
       "version_major": 2,
       "version_minor": 0
      },
      "text/plain": [
       "  0%|          | 0/5 [00:00<?, ?it/s]"
      ]
     },
     "metadata": {},
     "output_type": "display_data"
    },
    {
     "name": "stdout",
     "output_type": "stream",
     "text": [
      "Performing test 1/30...\n"
     ]
    },
    {
     "data": {
      "application/vnd.jupyter.widget-view+json": {
       "model_id": "656cb45f1dfa4db9bd24a26a6500668c",
       "version_major": 2,
       "version_minor": 0
      },
      "text/plain": [
       "  0%|          | 0/5 [00:00<?, ?it/s]"
      ]
     },
     "metadata": {},
     "output_type": "display_data"
    },
    {
     "name": "stdout",
     "output_type": "stream",
     "text": [
      "Performing test 1/30...\n"
     ]
    },
    {
     "data": {
      "application/vnd.jupyter.widget-view+json": {
       "model_id": "21ed2cdfeac244758317970eec17ee28",
       "version_major": 2,
       "version_minor": 0
      },
      "text/plain": [
       "  0%|          | 0/5 [00:00<?, ?it/s]"
      ]
     },
     "metadata": {},
     "output_type": "display_data"
    },
    {
     "name": "stdout",
     "output_type": "stream",
     "text": [
      "Performing test 1/30...\n"
     ]
    },
    {
     "data": {
      "application/vnd.jupyter.widget-view+json": {
       "model_id": "a0914c9585a740a4859a3b5b3a8b6bad",
       "version_major": 2,
       "version_minor": 0
      },
      "text/plain": [
       "  0%|          | 0/5 [00:00<?, ?it/s]"
      ]
     },
     "metadata": {},
     "output_type": "display_data"
    },
    {
     "name": "stdout",
     "output_type": "stream",
     "text": [
      "Performing test 1/30...\n"
     ]
    },
    {
     "data": {
      "application/vnd.jupyter.widget-view+json": {
       "model_id": "ccdca5b09a93419b85e09c1115ab3485",
       "version_major": 2,
       "version_minor": 0
      },
      "text/plain": [
       "  0%|          | 0/5 [00:00<?, ?it/s]"
      ]
     },
     "metadata": {},
     "output_type": "display_data"
    },
    {
     "name": "stdout",
     "output_type": "stream",
     "text": [
      "Performing test 1/30...\n"
     ]
    },
    {
     "data": {
      "application/vnd.jupyter.widget-view+json": {
       "model_id": "cf907fa165aa496580feb20753ad3e49",
       "version_major": 2,
       "version_minor": 0
      },
      "text/plain": [
       "  0%|          | 0/5 [00:00<?, ?it/s]"
      ]
     },
     "metadata": {},
     "output_type": "display_data"
    },
    {
     "name": "stdout",
     "output_type": "stream",
     "text": [
      "Performing test 1/30...\n"
     ]
    },
    {
     "data": {
      "application/vnd.jupyter.widget-view+json": {
       "model_id": "7cf6ca463c024509a58658c6bf7d7f4c",
       "version_major": 2,
       "version_minor": 0
      },
      "text/plain": [
       "  0%|          | 0/5 [00:00<?, ?it/s]"
      ]
     },
     "metadata": {},
     "output_type": "display_data"
    },
    {
     "name": "stdout",
     "output_type": "stream",
     "text": [
      "Performing test 1/30...\n"
     ]
    },
    {
     "data": {
      "application/vnd.jupyter.widget-view+json": {
       "model_id": "fd9358897d3b4a7b88cd6e76f5f170bd",
       "version_major": 2,
       "version_minor": 0
      },
      "text/plain": [
       "  0%|          | 0/5 [00:00<?, ?it/s]"
      ]
     },
     "metadata": {},
     "output_type": "display_data"
    },
    {
     "name": "stdout",
     "output_type": "stream",
     "text": [
      "Performing test 1/30...\n"
     ]
    },
    {
     "data": {
      "application/vnd.jupyter.widget-view+json": {
       "model_id": "6fd486ed475b4e76844f5ca2a2734aef",
       "version_major": 2,
       "version_minor": 0
      },
      "text/plain": [
       "  0%|          | 0/5 [00:00<?, ?it/s]"
      ]
     },
     "metadata": {},
     "output_type": "display_data"
    },
    {
     "name": "stdout",
     "output_type": "stream",
     "text": [
      "Performing test 1/30...\n"
     ]
    },
    {
     "data": {
      "application/vnd.jupyter.widget-view+json": {
       "model_id": "fd120547d104437abb3bcd11b6149a96",
       "version_major": 2,
       "version_minor": 0
      },
      "text/plain": [
       "  0%|          | 0/5 [00:00<?, ?it/s]"
      ]
     },
     "metadata": {},
     "output_type": "display_data"
    },
    {
     "name": "stdout",
     "output_type": "stream",
     "text": [
      "Performing test 1/30...\n"
     ]
    },
    {
     "data": {
      "application/vnd.jupyter.widget-view+json": {
       "model_id": "017d9de4f5e546578ed96626489fb83a",
       "version_major": 2,
       "version_minor": 0
      },
      "text/plain": [
       "  0%|          | 0/5 [00:00<?, ?it/s]"
      ]
     },
     "metadata": {},
     "output_type": "display_data"
    },
    {
     "name": "stdout",
     "output_type": "stream",
     "text": [
      "Performing test 1/30...\n"
     ]
    },
    {
     "data": {
      "application/vnd.jupyter.widget-view+json": {
       "model_id": "06991489a347443eb02cf18f2676a066",
       "version_major": 2,
       "version_minor": 0
      },
      "text/plain": [
       "  0%|          | 0/5 [00:00<?, ?it/s]"
      ]
     },
     "metadata": {},
     "output_type": "display_data"
    },
    {
     "name": "stdout",
     "output_type": "stream",
     "text": [
      "Performing test 1/30...\n"
     ]
    },
    {
     "data": {
      "application/vnd.jupyter.widget-view+json": {
       "model_id": "666bf1416b544fc388cacb90c52c04b3",
       "version_major": 2,
       "version_minor": 0
      },
      "text/plain": [
       "  0%|          | 0/5 [00:00<?, ?it/s]"
      ]
     },
     "metadata": {},
     "output_type": "display_data"
    },
    {
     "name": "stdout",
     "output_type": "stream",
     "text": [
      "Performing test 1/30...\n"
     ]
    },
    {
     "data": {
      "application/vnd.jupyter.widget-view+json": {
       "model_id": "30bda3c537b045da921604905b9ccbc4",
       "version_major": 2,
       "version_minor": 0
      },
      "text/plain": [
       "  0%|          | 0/5 [00:00<?, ?it/s]"
      ]
     },
     "metadata": {},
     "output_type": "display_data"
    },
    {
     "name": "stdout",
     "output_type": "stream",
     "text": [
      "Performing test 1/30...\n"
     ]
    },
    {
     "data": {
      "application/vnd.jupyter.widget-view+json": {
       "model_id": "73e12d62610e434793d978f1e972541a",
       "version_major": 2,
       "version_minor": 0
      },
      "text/plain": [
       "  0%|          | 0/5 [00:00<?, ?it/s]"
      ]
     },
     "metadata": {},
     "output_type": "display_data"
    },
    {
     "name": "stdout",
     "output_type": "stream",
     "text": [
      "Performing test 1/30...\n"
     ]
    },
    {
     "data": {
      "application/vnd.jupyter.widget-view+json": {
       "model_id": "90779d8b501a4add84ab3622b66ebe2f",
       "version_major": 2,
       "version_minor": 0
      },
      "text/plain": [
       "  0%|          | 0/5 [00:00<?, ?it/s]"
      ]
     },
     "metadata": {},
     "output_type": "display_data"
    },
    {
     "name": "stdout",
     "output_type": "stream",
     "text": [
      "Performing test 1/30...\n"
     ]
    },
    {
     "data": {
      "application/vnd.jupyter.widget-view+json": {
       "model_id": "60ce59d033ea4b269d1e58a99c76e215",
       "version_major": 2,
       "version_minor": 0
      },
      "text/plain": [
       "  0%|          | 0/5 [00:00<?, ?it/s]"
      ]
     },
     "metadata": {},
     "output_type": "display_data"
    },
    {
     "name": "stdout",
     "output_type": "stream",
     "text": [
      "Performing test 1/30...\n"
     ]
    },
    {
     "data": {
      "application/vnd.jupyter.widget-view+json": {
       "model_id": "ebeafe5027d34876a50db27bcf7f5cb7",
       "version_major": 2,
       "version_minor": 0
      },
      "text/plain": [
       "  0%|          | 0/5 [00:00<?, ?it/s]"
      ]
     },
     "metadata": {},
     "output_type": "display_data"
    },
    {
     "name": "stdout",
     "output_type": "stream",
     "text": [
      "Performing test 1/30...\n"
     ]
    },
    {
     "data": {
      "application/vnd.jupyter.widget-view+json": {
       "model_id": "ce1d2f62514a4ea3915e9dd1cfa4cd7e",
       "version_major": 2,
       "version_minor": 0
      },
      "text/plain": [
       "  0%|          | 0/5 [00:00<?, ?it/s]"
      ]
     },
     "metadata": {},
     "output_type": "display_data"
    },
    {
     "name": "stdout",
     "output_type": "stream",
     "text": [
      "Performing test 1/30...\n"
     ]
    },
    {
     "data": {
      "application/vnd.jupyter.widget-view+json": {
       "model_id": "a18b49e53ff74079b16fcd8d368c24b7",
       "version_major": 2,
       "version_minor": 0
      },
      "text/plain": [
       "  0%|          | 0/5 [00:00<?, ?it/s]"
      ]
     },
     "metadata": {},
     "output_type": "display_data"
    },
    {
     "name": "stdout",
     "output_type": "stream",
     "text": [
      "Performing test 1/30...\n"
     ]
    },
    {
     "data": {
      "application/vnd.jupyter.widget-view+json": {
       "model_id": "bf366a8539d84c4fb7ffcc00ab349da0",
       "version_major": 2,
       "version_minor": 0
      },
      "text/plain": [
       "  0%|          | 0/5 [00:00<?, ?it/s]"
      ]
     },
     "metadata": {},
     "output_type": "display_data"
    },
    {
     "name": "stdout",
     "output_type": "stream",
     "text": [
      "Performing test 1/30...\n"
     ]
    },
    {
     "data": {
      "application/vnd.jupyter.widget-view+json": {
       "model_id": "a5df7237a7a54e1ca188f7f84ee7c7ad",
       "version_major": 2,
       "version_minor": 0
      },
      "text/plain": [
       "  0%|          | 0/5 [00:00<?, ?it/s]"
      ]
     },
     "metadata": {},
     "output_type": "display_data"
    },
    {
     "name": "stdout",
     "output_type": "stream",
     "text": [
      "Performing test 1/30...\n"
     ]
    },
    {
     "data": {
      "application/vnd.jupyter.widget-view+json": {
       "model_id": "56e15ff5609d4076831c54b896e0edd0",
       "version_major": 2,
       "version_minor": 0
      },
      "text/plain": [
       "  0%|          | 0/5 [00:00<?, ?it/s]"
      ]
     },
     "metadata": {},
     "output_type": "display_data"
    },
    {
     "name": "stdout",
     "output_type": "stream",
     "text": [
      "Performing test 1/30...\n"
     ]
    },
    {
     "data": {
      "application/vnd.jupyter.widget-view+json": {
       "model_id": "4f52bfa5a30a482eb1edade3b094ea78",
       "version_major": 2,
       "version_minor": 0
      },
      "text/plain": [
       "  0%|          | 0/5 [00:00<?, ?it/s]"
      ]
     },
     "metadata": {},
     "output_type": "display_data"
    },
    {
     "name": "stdout",
     "output_type": "stream",
     "text": [
      "Performing test 1/30...\n"
     ]
    },
    {
     "data": {
      "application/vnd.jupyter.widget-view+json": {
       "model_id": "50937f6f66304206b0453947ef046801",
       "version_major": 2,
       "version_minor": 0
      },
      "text/plain": [
       "  0%|          | 0/5 [00:00<?, ?it/s]"
      ]
     },
     "metadata": {},
     "output_type": "display_data"
    },
    {
     "name": "stdout",
     "output_type": "stream",
     "text": [
      "Performing test 1/30...\n"
     ]
    },
    {
     "data": {
      "application/vnd.jupyter.widget-view+json": {
       "model_id": "dc654ead9d024c68a8c4585278376319",
       "version_major": 2,
       "version_minor": 0
      },
      "text/plain": [
       "  0%|          | 0/5 [00:00<?, ?it/s]"
      ]
     },
     "metadata": {},
     "output_type": "display_data"
    },
    {
     "name": "stdout",
     "output_type": "stream",
     "text": [
      "Performing test 1/30...\n"
     ]
    },
    {
     "data": {
      "application/vnd.jupyter.widget-view+json": {
       "model_id": "c1a1db817b5e471fb394a2d6629cf76a",
       "version_major": 2,
       "version_minor": 0
      },
      "text/plain": [
       "  0%|          | 0/5 [00:00<?, ?it/s]"
      ]
     },
     "metadata": {},
     "output_type": "display_data"
    },
    {
     "data": {
      "image/png": "[encoded data removed]",
      "text/plain": [
       "<Figure size 640x480 with 1 Axes>"
      ]
     },
     "metadata": {},
     "output_type": "display_data"
    }
   ],
   "source": [
    "\"\"\"Perform secondary analysis on how model performance varies as a function of input and generation length.\"\"\"\n",
    "\n",
    "from collections import defaultdict\n",
    "import math\n",
    "importlib.reload(ut)\n",
    "\n",
    "tests_per_model = 5\n",
    "prompt_lengths = [100, 200, 300]\n",
    "generation_lengths = [1, 100, 200, 400, 500]\n",
    "\n",
    "# Taking the base model and best performer from the initial analysis.\n",
    "testers = [base_hf_tester, onnx_opt_quant_tester]\n",
    "result_logs = defaultdict(list)\n",
    "\"\"\"Constructing test logs in the following schema:\n",
    "{   # Key for each inference function - prompt length pair.\n",
    "            <test label> :\n",
    "            [ # Array for each different generation length.\n",
    "                [# Float for each test repetition within generation length.\n",
    "                    0.1,\n",
    "                    ...\n",
    "                ],\n",
    "                ...\n",
    "            ],\n",
    "            ...\n",
    "}\n",
    "\"\"\"\n",
    "n_tests = len(prompt_lengths) * len(generation_lengths) * len(testers)\n",
    "i = 0\n",
    "for prompt_length in prompt_lengths:\n",
    "    for gen_length in generation_lengths:\n",
    "        for tester in testers:\n",
    "            print(f\"Performing test {i+1}/{n_tests}...\")\n",
    "            tester.run_speed_test(\n",
    "                n_tests=tests_per_model,\n",
    "                prompt_length=prompt_length,\n",
    "                max_generation_length=gen_length,\n",
    "                tokenizer=hf_gpt_tokenizer\n",
    "            )\n",
    "            result_logs[f'{tester.model_name} - {prompt_length}'].append(tester.times)\n",
    "            tester.times = []\n",
    "            i+=1\n",
    "\n",
    "ut.plot_varied_speed_test(tester_results=result_logs, generation_lengths=generation_lengths)"
   ]
  }
 ],
 "metadata": {
  "kernelspec": {
   "display_name": "llm",
   "language": "python",
   "name": "python3"
  },
  "language_info": {
   "codemirror_mode": {
    "name": "ipython",
    "version": 3
   },
   "file_extension": ".py",
   "mimetype": "text/x-python",
   "name": "python",
   "nbconvert_exporter": "python",
   "pygments_lexer": "ipython3",
   "version": "3.9.16"
  },
  "orig_nbformat": 4,
  "vscode": {
   "interpreter": {
    "hash": "d745037ffe4aeb9469e549277da22aeab1a98e37d56e79cfbc529ff79a3fa7a8"
   }
  }
 },
 "nbformat": 4,
 "nbformat_minor": 2
}
